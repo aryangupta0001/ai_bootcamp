{
  "nbformat": 4,
  "nbformat_minor": 0,
  "metadata": {
    "colab": {
      "provenance": []
    },
    "kernelspec": {
      "name": "python3",
      "display_name": "Python 3"
    },
    "language_info": {
      "name": "python"
    }
  },
  "cells": [
    {
      "cell_type": "code",
      "execution_count": null,
      "metadata": {
        "id": "xyNrt6-n8HoQ",
        "colab": {
          "base_uri": "https://localhost:8080/"
        },
        "outputId": "8fd674f6-db58-4356-d53e-c14a083943bf"
      },
      "outputs": [
        {
          "output_type": "stream",
          "name": "stdout",
          "text": [
            "6+9\n",
            "15-89\n",
            "-74*7841\n",
            "-580234/78\n",
            "-7438.897435897436"
          ]
        }
      ],
      "source": [
        "operators = ['+', '-', '*', '/']\n",
        "\n",
        "result = ''\n",
        "\n",
        "\n",
        "while True:\n",
        "    exp = input()\n",
        "\n",
        "    expression = str(result) + exp\n",
        "\n",
        "    for i in range(len(expression)-1, -1, -1):\n",
        "        if(expression[i] in operators):\n",
        "            operator = expression[i]\n",
        "            operands = expression.split(operator)\n",
        "            break\n",
        "\n",
        "    if('.' in operands[0]):\n",
        "        a = float(operands[0])\n",
        "\n",
        "    else:\n",
        "        a = int(operands[0])\n",
        "\n",
        "\n",
        "\n",
        "    if('.' in operands[1]):\n",
        "        b = float(operands[1])\n",
        "\n",
        "    else:\n",
        "        b = int(operands[1])\n",
        "\n",
        "\n",
        "\n",
        "    match operator:\n",
        "        case '+':\n",
        "            result = a+b\n",
        "\n",
        "        case '-':\n",
        "            result = a-b\n",
        "\n",
        "        case '*':\n",
        "            result = a*b\n",
        "\n",
        "        case '/':\n",
        "            result = a/b\n",
        "\n",
        "    print(result, end = '')"
      ]
    }
  ]
}